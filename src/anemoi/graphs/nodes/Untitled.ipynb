{
 "cells": [
  {
   "cell_type": "code",
   "execution_count": 1,
   "id": "bf72066c-6c9a-4883-9e45-0adbc8268200",
   "metadata": {},
   "outputs": [],
   "source": [
    "import ds_builder"
   ]
  },
  {
   "cell_type": "code",
   "execution_count": 2,
   "id": "228d432a-3f1e-4c54-87dd-c4f64ed402e4",
   "metadata": {},
   "outputs": [
    {
     "ename": "ModuleNotFoundError",
     "evalue": "No module named 'anemoi.graphs.nodes.ds_builder'",
     "output_type": "error",
     "traceback": [
      "\u001b[0;31m---------------------------------------------------------------------------\u001b[0m",
      "\u001b[0;31mModuleNotFoundError\u001b[0m                       Traceback (most recent call last)",
      "Cell \u001b[0;32mIn[2], line 1\u001b[0m\n\u001b[0;32m----> 1\u001b[0m \u001b[38;5;28;01mimport\u001b[39;00m \u001b[38;5;21;01manemoi\u001b[39;00m\u001b[38;5;21;01m.\u001b[39;00m\u001b[38;5;21;01mgraphs\u001b[39;00m\u001b[38;5;21;01m.\u001b[39;00m\u001b[38;5;21;01mnodes\u001b[39;00m\u001b[38;5;21;01m.\u001b[39;00m\u001b[38;5;21;01mds_builder\u001b[39;00m\n",
      "\u001b[0;31mModuleNotFoundError\u001b[0m: No module named 'anemoi.graphs.nodes.ds_builder'"
     ]
    }
   ],
   "source": [
    "import anemoi.graphs.nodes.ds_builder"
   ]
  },
  {
   "cell_type": "code",
   "execution_count": null,
   "id": "39bd4574-d9ef-40f6-87f1-60b6aaeb03b4",
   "metadata": {},
   "outputs": [],
   "source": []
  }
 ],
 "metadata": {
  "kernelspec": {
   "display_name": "aifs",
   "language": "python",
   "name": "aifs"
  },
  "language_info": {
   "codemirror_mode": {
    "name": "ipython",
    "version": 3
   },
   "file_extension": ".py",
   "mimetype": "text/x-python",
   "name": "python",
   "nbconvert_exporter": "python",
   "pygments_lexer": "ipython3",
   "version": "3.10.14"
  }
 },
 "nbformat": 4,
 "nbformat_minor": 5
}
